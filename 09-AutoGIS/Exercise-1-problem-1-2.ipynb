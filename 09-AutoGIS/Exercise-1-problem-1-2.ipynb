{
 "cells": [
  {
   "cell_type": "markdown",
   "metadata": {
    "deletable": false,
    "editable": false,
    "nbgrader": {
     "cell_type": "markdown",
     "checksum": "607e0740af2af718576bf67c39fb0f7b",
     "grade": false,
     "grade_id": "point_function_instructions",
     "locked": true,
     "schema_version": 3,
     "solution": false
    }
   },
   "source": [
    "## Problem 1: Creating basic geometries (*5 points*)\n",
    "\n",
    "\n",
    "1: Create a function called `create_point_geom()` that has two parameters (x_coord, y_coord). Function should create a shapely `Point` geometry object and return that. \n",
    "   "
   ]
  },
  {
   "cell_type": "code",
   "execution_count": 1,
   "metadata": {
    "deletable": false,
    "nbgrader": {
     "cell_type": "code",
     "checksum": "a7ac82261a0b9a898a4c4b4fa8780bdb",
     "grade": false,
     "grade_id": "point_geom",
     "locked": false,
     "schema_version": 3,
     "solution": true
    }
   },
   "outputs": [],
   "source": [
    "from shapely.geometry import Point, LineString, Polygon\n",
    "def create_point_geom(x_coord, y_coord):\n",
    "    \"\"\"\n",
    "    Function for creating a point\n",
    "\n",
    "    Parameters\n",
    "    ----------\n",
    "    x_coord: <numerical>\n",
    "        x coordinate of point\n",
    "    y_coord: <numerical>\n",
    "        y coordinate of point\n",
    "\n",
    "    Returns\n",
    "    -------\n",
    "    <Point>\n",
    "        a shapely Point\n",
    "    \"\"\"\n",
    "    return Point(x_coord, y_coord)"
   ]
  },
  {
   "cell_type": "markdown",
   "metadata": {},
   "source": [
    "Test your function by running these code cells:"
   ]
  },
  {
   "cell_type": "code",
   "execution_count": 2,
   "metadata": {
    "deletable": false,
    "editable": false,
    "nbgrader": {
     "cell_type": "code",
     "checksum": "4dd896457282c883d979a9f0aee09228",
     "grade": true,
     "grade_id": "problem_1_function_test",
     "locked": true,
     "points": 0.5,
     "schema_version": 3,
     "solution": false
    }
   },
   "outputs": [],
   "source": [
    "# NON-EDITABLE CODE CELL FOR TESTING YOUR SOLUTION\n",
    "# Demonstrate the usage of the function\n",
    "point1 = create_point_geom(0.0, 1.1)"
   ]
  },
  {
   "cell_type": "code",
   "execution_count": 3,
   "metadata": {
    "deletable": false,
    "editable": false,
    "nbgrader": {
     "cell_type": "code",
     "checksum": "3dec327f2f60d95995c71dc0cea8510f",
     "grade": true,
     "grade_id": "problem_1_parameter_test",
     "locked": true,
     "points": 0.5,
     "schema_version": 3,
     "solution": false,
     "task": false
    }
   },
   "outputs": [
    {
     "name": "stdout",
     "output_type": "stream",
     "text": [
      "POINT (0 1.1)\n"
     ]
    }
   ],
   "source": [
    "# NON-EDITABLE CODE CELL FOR TESTING YOUR SOLUTION\n",
    "print(point1)"
   ]
  },
  {
   "cell_type": "code",
   "execution_count": 4,
   "metadata": {
    "deletable": false,
    "editable": false,
    "nbgrader": {
     "cell_type": "code",
     "checksum": "065553dc7de8e2ab0bc38ea3addf8ff8",
     "grade": true,
     "grade_id": "problem_1_point_geom_test",
     "locked": true,
     "points": 0.5,
     "schema_version": 3,
     "solution": false,
     "task": false
    }
   },
   "outputs": [
    {
     "name": "stdout",
     "output_type": "stream",
     "text": [
      "Point\n"
     ]
    }
   ],
   "source": [
    "# NON-EDITABLE CODE CELL FOR TESTING YOUR SOLUTION\n",
    "print(point1.geom_type)"
   ]
  },
  {
   "cell_type": "markdown",
   "metadata": {
    "deletable": false,
    "editable": false,
    "nbgrader": {
     "cell_type": "markdown",
     "checksum": "25438d34082a914ccb29b3a19b062b14",
     "grade": false,
     "grade_id": "line_function_instructions",
     "locked": true,
     "schema_version": 3,
     "solution": false
    }
   },
   "source": [
    "2: Create a function called **`create_line_geom()`** that takes a list of Shapely Point objects as parameter called **`points`** and returns a LineString object of those input points. In addition, you should take care that the function is used as it should:\n",
    "\n",
    "  - Inside the function, you should first check with `assert` -functionality that the input is a **list** (see [lesson 6 from the Geo-Python course](https://geo-python.github.io/site/lessons/L6/interpreting-errors.html#assertions) and [hints for this exercise](https://automating-gis-processes.github.io/site/develop/lessons/L1/exercise-1.html#hints)). If something else than a list is passed for the function, you should return an Error message: `\"Input should be a list!\"`\n",
    "  - You should also check with `assert` that the input list contains **at least** two values. If not, return an Error message: `\"LineString object requires at least two Points!\"`\n",
    "  - Optional: Finally, you should check with `assert` that all values in the input list are truly Shapely Points. If not, return an Error message: `\"All list values should be Shapely Point objects!\"`\n",
    "  "
   ]
  },
  {
   "cell_type": "code",
   "execution_count": 5,
   "metadata": {
    "deletable": false,
    "nbgrader": {
     "cell_type": "code",
     "checksum": "dea9d99d7d1efc9830d0c375fa147493",
     "grade": false,
     "grade_id": "line_geom",
     "locked": false,
     "schema_version": 3,
     "solution": true
    }
   },
   "outputs": [],
   "source": [
    "def create_line_geom(points):\n",
    "        \"\"\"\n",
    "    Function for creating a line\n",
    "\n",
    "    Parameters\n",
    "    ----------\n",
    "    points: <list>\n",
    "        list of points connecting line\n",
    "\n",
    "    Returns\n",
    "    -------\n",
    "    <LineString>\n",
    "        a shapely line\n",
    "    \"\"\"\n",
    "    assert type(points) == list, 'Input should be a list!'\n",
    "    assert len(points) >= 2, 'LineString object requires at least two Points!'\n",
    "    return LineString(points)"
   ]
  },
  {
   "cell_type": "markdown",
   "metadata": {},
   "source": [
    "# Demonstrate the usage of your function; For example, create a line object with two points: `Point(45.2, 22.34)` & `Point(100.22, -3.20)` and store the result in a variable called `line1`:"
   ]
  },
  {
   "cell_type": "code",
   "execution_count": 6,
   "metadata": {},
   "outputs": [],
   "source": [
    "line1 = None\n",
    "line1 = create_line_geom([Point(45.2, 22.34),Point(100.22, -3.20)])"
   ]
  },
  {
   "cell_type": "markdown",
   "metadata": {},
   "source": [
    "Run these code cells to check your solution:"
   ]
  },
  {
   "cell_type": "code",
   "execution_count": 7,
   "metadata": {
    "deletable": false,
    "editable": false,
    "nbgrader": {
     "cell_type": "code",
     "checksum": "6823ab3619ebf53d983bdb53183cea04",
     "grade": true,
     "grade_id": "problem_1_line_function_test",
     "locked": true,
     "points": 0.5,
     "schema_version": 3,
     "solution": false,
     "task": false
    }
   },
   "outputs": [
    {
     "name": "stdout",
     "output_type": "stream",
     "text": [
      "LINESTRING (45.2 22.34, 100.22 -3.2)\n"
     ]
    }
   ],
   "source": [
    "# NON-EDITABLE CODE CELL FOR TESTING YOUR SOLUTION\n",
    "print(line1)"
   ]
  },
  {
   "cell_type": "code",
   "execution_count": 8,
   "metadata": {
    "deletable": false,
    "editable": false,
    "nbgrader": {
     "cell_type": "code",
     "checksum": "501405f5e51b407dc4c4308eca17af1e",
     "grade": true,
     "grade_id": "problem_1_line_geom_test",
     "locked": true,
     "points": 0.5,
     "schema_version": 3,
     "solution": false,
     "task": false
    }
   },
   "outputs": [
    {
     "name": "stdout",
     "output_type": "stream",
     "text": [
      "LineString\n"
     ]
    }
   ],
   "source": [
    "# NON-EDITABLE CODE CELL FOR TESTING YOUR SOLUTION\n",
    "print(line1.geom_type)"
   ]
  },
  {
   "cell_type": "markdown",
   "metadata": {},
   "source": [
    "Check if your function checks the input correctly by running this code cell:"
   ]
  },
  {
   "cell_type": "code",
   "execution_count": 9,
   "metadata": {
    "deletable": false,
    "editable": false,
    "nbgrader": {
     "cell_type": "code",
     "checksum": "464d54190a5b7ef03ec3df9ddb32427c",
     "grade": true,
     "grade_id": "problem_1_line_assertion_test",
     "locked": true,
     "points": 0.5,
     "schema_version": 3,
     "solution": false,
     "task": false
    }
   },
   "outputs": [
    {
     "name": "stdout",
     "output_type": "stream",
     "text": [
      "List check works\n"
     ]
    }
   ],
   "source": [
    "# NON-EDITABLE CODE CELL FOR TESTING YOUR SOLUTION\n",
    "try:\n",
    "    # Pass something else than a list\n",
    "    create_line_geom(\"Give me a line!\")\n",
    "except AssertionError:\n",
    "    print(\"List check works\")\n",
    "except Exception as e:\n",
    "    raise e"
   ]
  },
  {
   "cell_type": "markdown",
   "metadata": {
    "deletable": false,
    "editable": false,
    "nbgrader": {
     "cell_type": "markdown",
     "checksum": "05a922afb38d4ed269403e27f38455be",
     "grade": false,
     "grade_id": "poly_function_instructions",
     "locked": true,
     "schema_version": 3,
     "solution": false
    }
   },
   "source": [
    "3: Create a function called **`create_poly_geom()`** that has one parameter called **`coords`**. `coords` parameter should containt **a list of coordinate tuples**. The function should create and return a Polygon object based on these coordinates.  \n",
    "\n",
    "  - Inside the function, you should first check with `assert` -functionality that the input is a **list** (see [lesson 6](https://geo-python.github.io/site/lessons/L6/interpreting-errors.html#assertions) and [hints](https://automating-gis-processes.github.io/site/develop/lessons/L1/exercise-1.html#hints)). If something else than a list is passed for the function, you should return an Error message: `\"Input should be a list!\"`\n",
    "  - You should also check with `assert` that the input list contains **at least** three values. If not, return an Error message: `\"Polygon object requires at least three Points!\"`\n",
    "  - Check the data type of the objects in the input list. All values in the input list should be tuples. If not, return an error message: \"All list values should be coordinate tuples!\" using assert.\n",
    "  - **Optional:** Allow also an input containing a list of Shapely Point objects. If `coors` contans a list of Shapely Point objects, return a polygon based on these points. If the input is neither a list of tuples, nor a list of Points, return an appropriate error message using assert.\n",
    "  "
   ]
  },
  {
   "cell_type": "code",
   "execution_count": 28,
   "metadata": {
    "deletable": false,
    "nbgrader": {
     "cell_type": "code",
     "checksum": "435649a3c649f2a1c0d3960c80da84ec",
     "grade": false,
     "grade_id": "poly_geom",
     "locked": false,
     "schema_version": 3,
     "solution": true
    }
   },
   "outputs": [],
   "source": [
    "def create_poly_geom(coords):\n",
    "        \"\"\"\n",
    "    Function for creating a polygon\n",
    "\n",
    "    Parameters\n",
    "    ----------\n",
    "    coords: <tuple>\n",
    "        list of points connecting polygon        \n",
    "\n",
    "    Returns\n",
    "    -------\n",
    "    <Polygon>\n",
    "        a shapely polygon\n",
    "    \"\"\"\n",
    "    assert len(coords) >= 3, 'Polygon object requires at least three Points!'\n",
    "    assert type(coords) == tuple, 'All list values should be coordinate tuples!'\n",
    "    return Polygon(coords)"
   ]
  },
  {
   "cell_type": "markdown",
   "metadata": {},
   "source": [
    "Demonstrate the usage of the function. For example, create a Polygon with three points: `(45.2, 22.34)`, `(100.22, -3.20)` & `(70.0, 10.20)`."
   ]
  },
  {
   "cell_type": "code",
   "execution_count": 29,
   "metadata": {},
   "outputs": [],
   "source": [
    "poly1 = None\n",
    "poly1 = create_poly_geom(((45.2, 22.34), (100.22, -3.20), (70.0, 10.20)))"
   ]
  },
  {
   "cell_type": "code",
   "execution_count": 30,
   "metadata": {
    "deletable": false,
    "editable": false,
    "nbgrader": {
     "cell_type": "code",
     "checksum": "122700422425526da9cc702560ff24ed",
     "grade": true,
     "grade_id": "problem_1_poly_function_tests",
     "locked": true,
     "points": 0.5,
     "schema_version": 3,
     "solution": false
    }
   },
   "outputs": [
    {
     "name": "stdout",
     "output_type": "stream",
     "text": [
      "POLYGON ((45.2 22.34, 100.22 -3.2, 70 10.2, 45.2 22.34))\n"
     ]
    }
   ],
   "source": [
    "# NON-EDITABLE CODE CELL FOR TESTING YOUR SOLUTION\n",
    "print(poly1)"
   ]
  },
  {
   "cell_type": "code",
   "execution_count": 24,
   "metadata": {
    "deletable": false,
    "editable": false,
    "nbgrader": {
     "cell_type": "code",
     "checksum": "e144c0b6745fa5237446938476585818",
     "grade": true,
     "grade_id": "problem_1_poly_geom_tests",
     "locked": true,
     "points": 1,
     "schema_version": 3,
     "solution": false,
     "task": false
    }
   },
   "outputs": [
    {
     "name": "stdout",
     "output_type": "stream",
     "text": [
      "Polygon\n"
     ]
    }
   ],
   "source": [
    "# NON-EDITABLE CODE CELL FOR TESTING YOUR SOLUTION\n",
    "print(poly1.geom_type)"
   ]
  },
  {
   "cell_type": "markdown",
   "metadata": {},
   "source": [
    "Check if your function checks the length of the input correctly by running this code cell:"
   ]
  },
  {
   "cell_type": "code",
   "execution_count": 25,
   "metadata": {
    "deletable": false,
    "editable": false,
    "nbgrader": {
     "cell_type": "code",
     "checksum": "650b3172607ede814ab4c1484a01143e",
     "grade": true,
     "grade_id": "problem_1_poly_assertion_tests",
     "locked": true,
     "points": 0.5,
     "schema_version": 3,
     "solution": false,
     "task": false
    }
   },
   "outputs": [
    {
     "name": "stdout",
     "output_type": "stream",
     "text": [
      "List check works\n"
     ]
    }
   ],
   "source": [
    "# NON-EDITABLE CODE CELL FOR TESTING YOUR SOLUTION\n",
    "try:\n",
    "    # Pass something else than a list\n",
    "    create_poly_geom(\"Give me a polygon\")\n",
    "except AssertionError:\n",
    "    print(\"List check works\")\n",
    "except Exception as e:\n",
    "    raise e"
   ]
  },
  {
   "cell_type": "markdown",
   "metadata": {
    "deletable": false,
    "editable": false,
    "nbgrader": {
     "cell_type": "markdown",
     "checksum": "d26801844abddbf1f7baac1df8e6c26e",
     "grade": false,
     "grade_id": "done_1",
     "locked": true,
     "schema_version": 3,
     "solution": false
    }
   },
   "source": [
    "- Upload the codes and edits to your **own** personal GitHub repository for Exercise-1\n",
    "\n",
    "## Done!\n",
    "\n",
    "That's it. Now you are ready to continue with Problem 2. "
   ]
  },
  {
   "cell_type": "markdown",
   "metadata": {
    "deletable": false,
    "editable": false,
    "nbgrader": {
     "cell_type": "markdown",
     "checksum": "7b6c5138d2e2ca105411b72213a9434a",
     "grade": false,
     "grade_id": "get_centroid_instructions",
     "locked": true,
     "schema_version": 3,
     "solution": false
    }
   },
   "source": [
    "## Problem 2: Attributes of geometries (*5 points*)\n",
    "\n",
    "1: Create a function called `get_centroid()` that has one parameter called `geom`. The function should take any kind of Shapely's geometric -object as an input, and return a centroid of that geometry. In addition, you should take care that the function is used as it should:\n",
    "\n",
    "  - Inside the function, you should first check with `assert` -functionality that the input is a Shapely Point, LineString or Polygon geometry (see [lesson 6](https://geo-python.github.io/site/lessons/L6/interpreting-errors.html#assertions) and [hints](https://automating-gis-processes.github.io/site/develop/lessons/L1/exercise-1.html#hints)). If something else than a list is passed for the function, you should return an Error message: `\"Input should be a Shapely geometry!\"`\n"
   ]
  },
  {
   "cell_type": "code",
   "execution_count": 109,
   "metadata": {
    "deletable": false,
    "nbgrader": {
     "cell_type": "code",
     "checksum": "6608f58940623f1eb0cf8365e1964b48",
     "grade": false,
     "grade_id": "centroid",
     "locked": false,
     "schema_version": 3,
     "solution": true
    }
   },
   "outputs": [],
   "source": [
    "def get_centroid(geom):\n",
    "        \"\"\"\n",
    "    Function for finding a centroid\n",
    "\n",
    "    Parameters\n",
    "    ----------\n",
    "    geom: <Point, LineString, Polygon>\n",
    "        takes a point, line, or polygon\n",
    "   \n",
    "\n",
    "    Returns\n",
    "    -------\n",
    "    <float>\n",
    "        the objects centroid\n",
    "    \"\"\"\n",
    "    assert type(geom) == Point or type(geom) == LineString or type(geom) == Polygon, 'Input should be a Shapely geometry!'\n",
    "    return geom.centroid"
   ]
  },
  {
   "cell_type": "markdown",
   "metadata": {},
   "source": [
    "Test and demonstrate the usage of the function. You can, for example, create shapely objects using the functions you created in problem 1 and print out information about their centroids:\n"
   ]
  },
  {
   "cell_type": "code",
   "execution_count": 99,
   "metadata": {},
   "outputs": [
    {
     "data": {
      "text/plain": [
       "True"
      ]
     },
     "execution_count": 99,
     "metadata": {},
     "output_type": "execute_result"
    }
   ],
   "source": [
    "poly1.geom_type == 'Polygon'"
   ]
  },
  {
   "cell_type": "code",
   "execution_count": 108,
   "metadata": {},
   "outputs": [
    {
     "data": {
      "text/plain": [
       "True"
      ]
     },
     "execution_count": 108,
     "metadata": {},
     "output_type": "execute_result"
    }
   ],
   "source": [
    "type(line1) == LineString"
   ]
  },
  {
   "cell_type": "code",
   "execution_count": 110,
   "metadata": {
    "deletable": false,
    "editable": false,
    "nbgrader": {
     "cell_type": "code",
     "checksum": "28ec29e7e61265c0e5aacc767ced2456",
     "grade": true,
     "grade_id": "problem_2_centroid_test",
     "locked": true,
     "points": 1,
     "schema_version": 3,
     "solution": false
    }
   },
   "outputs": [
    {
     "name": "stdout",
     "output_type": "stream",
     "text": [
      "POINT (71.80666666666667 9.780000000000001)\n"
     ]
    }
   ],
   "source": [
    "# NON-EDITABLE CODE CELL FOR TESTING YOUR SOLUTION\n",
    "centroid = get_centroid(poly1)\n",
    "print(centroid)"
   ]
  },
  {
   "cell_type": "markdown",
   "metadata": {},
   "source": [
    "Check that the assertion error works correctly:"
   ]
  },
  {
   "cell_type": "code",
   "execution_count": 111,
   "metadata": {
    "deletable": false,
    "editable": false,
    "nbgrader": {
     "cell_type": "code",
     "checksum": "31d29003a9c134d2592470dfb393598d",
     "grade": true,
     "grade_id": "problem_2_centroid_assertion_test",
     "locked": true,
     "points": 0.5,
     "schema_version": 3,
     "solution": false,
     "task": false
    }
   },
   "outputs": [
    {
     "name": "stdout",
     "output_type": "stream",
     "text": [
      "Geometry -check works\n"
     ]
    }
   ],
   "source": [
    "# NON-EDITABLE CODE CELL FOR TESTING YOUR SOLUTION\n",
    "try:\n",
    "    # Pass something else than a Shapely geometry\n",
    "    get_centroid(\"Give me a centroid!\")\n",
    "except AssertionError:\n",
    "    print(\"Geometry -check works\")\n",
    "except Exception as e:\n",
    "    raise e"
   ]
  },
  {
   "cell_type": "markdown",
   "metadata": {
    "deletable": false,
    "editable": false,
    "nbgrader": {
     "cell_type": "markdown",
     "checksum": "6b2ffc7bd3b23f5205a52fc042c2132e",
     "grade": false,
     "grade_id": "cell-f852a6d46065d4e2",
     "locked": true,
     "schema_version": 3,
     "solution": false
    }
   },
   "source": [
    "2: Create a function called `get_area()` with one parameter called `polygon`. Function should take a Shapely's Polygon -object as input and returns the area of that geometry. \n",
    "   \n",
    "   - Inside the function, you should first check with `assert` -functionality that the input is a Shapely Polygon geometry (see [lesson 6](https://geo-python.github.io/site/lessons/L6/interpreting-errors.html#assertions) and [hints](https://automating-gis-processes.github.io/site/develop/lessons/L1/exercise-1.html#hints)). If something else than a list is passed for the function, you should return an Error message: `\"Input should be a Shapely Polygon -object!\"`"
   ]
  },
  {
   "cell_type": "code",
   "execution_count": 112,
   "metadata": {
    "deletable": false,
    "nbgrader": {
     "cell_type": "code",
     "checksum": "58b09a73892303caf1ab94de058507b5",
     "grade": false,
     "grade_id": "area",
     "locked": false,
     "schema_version": 3,
     "solution": true
    }
   },
   "outputs": [],
   "source": [
    "def get_area(polygon):\n",
    "        \"\"\"\n",
    "    Function for finding the area of a polygon\n",
    "\n",
    "    Parameters\n",
    "    ----------\n",
    "    polygon: <Polygon>\n",
    "        a shapely Polygon\n",
    "\n",
    "    Returns\n",
    "    -------\n",
    "    <float>\n",
    "        area of the polygon\n",
    "    \"\"\"\n",
    "    assert type(polygon) == Polygon, 'Input should be a Shapely Polygon -object!'\n",
    "    return polygon.area"
   ]
  },
  {
   "cell_type": "markdown",
   "metadata": {},
   "source": [
    "Test and demonstrate the usage of the function:"
   ]
  },
  {
   "cell_type": "code",
   "execution_count": null,
   "metadata": {},
   "outputs": [],
   "source": []
  },
  {
   "cell_type": "code",
   "execution_count": 113,
   "metadata": {
    "deletable": false,
    "editable": false,
    "nbgrader": {
     "cell_type": "code",
     "checksum": "3dab011118e03b4956af5987eace8e60",
     "grade": true,
     "grade_id": "problem_2_area_test",
     "locked": true,
     "points": 0.5,
     "schema_version": 3,
     "solution": false
    }
   },
   "outputs": [
    {
     "name": "stdout",
     "output_type": "stream",
     "text": [
      "17.28\n"
     ]
    }
   ],
   "source": [
    "# NON-EDITABLE CODE CELL FOR TESTING YOUR SOLUTION\n",
    "area = get_area(poly1)\n",
    "print(round(area, 2))"
   ]
  },
  {
   "cell_type": "markdown",
   "metadata": {},
   "source": [
    "Check that the assertion works:"
   ]
  },
  {
   "cell_type": "code",
   "execution_count": 114,
   "metadata": {
    "deletable": false,
    "editable": false,
    "nbgrader": {
     "cell_type": "code",
     "checksum": "f2decefca0e18f820348e9f79e73bd3c",
     "grade": true,
     "grade_id": "problem_2_area_assertion_test",
     "locked": true,
     "points": 0.5,
     "schema_version": 3,
     "solution": false,
     "task": false
    }
   },
   "outputs": [
    {
     "name": "stdout",
     "output_type": "stream",
     "text": [
      "Geometry -check works\n"
     ]
    }
   ],
   "source": [
    "# NON-EDITABLE CODE CELL FOR TESTING YOUR SOLUTION\n",
    "try:\n",
    "    # Pass something else than a Shapely geometry\n",
    "    get_area(\"Give me an area!\")\n",
    "except AssertionError:\n",
    "    print(\"Geometry -check works\")\n",
    "except Exception as e:\n",
    "    raise e"
   ]
  },
  {
   "cell_type": "markdown",
   "metadata": {
    "deletable": false,
    "editable": false,
    "nbgrader": {
     "cell_type": "markdown",
     "checksum": "a560403652704cf926a9de8fab5bd0e9",
     "grade": false,
     "grade_id": "cell-df3c925f923bf1dd",
     "locked": true,
     "schema_version": 3,
     "solution": false
    }
   },
   "source": [
    "3: Create a function called `get_length()` with parameter called `geom`. The function should accept either a Shapely LineString or Polygon -object as input. Function should check the type of the input and returns the length of \n",
    "the line if input is LineString and length of the exterior ring if input is Polygon. If something else is passed to the function, you should return an `Error` `\"'geom' should be either LineString or Polygon!\"`. (Use assert functionality). \n"
   ]
  },
  {
   "cell_type": "code",
   "execution_count": 115,
   "metadata": {
    "deletable": false,
    "nbgrader": {
     "cell_type": "code",
     "checksum": "69f2b855aff5b9164d6f75545a57398c",
     "grade": false,
     "grade_id": "length",
     "locked": false,
     "schema_version": 3,
     "solution": true
    }
   },
   "outputs": [],
   "source": [
    "def get_length(geom):\n",
    "        \"\"\"\n",
    "    Function for finding the length of a line or polygon\n",
    "\n",
    "    Parameters\n",
    "    ----------\n",
    "    geom: <LineString, Polygon>\n",
    "        shapely Linestring or polygon\n",
    "\n",
    "\n",
    "    Returns\n",
    "    -------\n",
    "    <float>\n",
    "        length of line or perimeter of polygon\n",
    "    \"\"\"\n",
    "    assert type(geom) == LineString or type(geom) == Polygon, '\"geom\" should be either LineString or Polygon!'\n",
    "    return geom.length"
   ]
  },
  {
   "cell_type": "markdown",
   "metadata": {},
   "source": [
    "Test and demonstrate the usage of the function:"
   ]
  },
  {
   "cell_type": "code",
   "execution_count": null,
   "metadata": {},
   "outputs": [],
   "source": []
  },
  {
   "cell_type": "code",
   "execution_count": 116,
   "metadata": {
    "deletable": false,
    "editable": false,
    "nbgrader": {
     "cell_type": "code",
     "checksum": "8517d2a108bcaf20c1f126a60d573dfa",
     "grade": true,
     "grade_id": "problem_2_lenght_test",
     "locked": true,
     "points": 0.5,
     "schema_version": 3,
     "solution": false
    }
   },
   "outputs": [
    {
     "name": "stdout",
     "output_type": "stream",
     "text": [
      "Line length: 60.66\n"
     ]
    }
   ],
   "source": [
    "# NON-EDITABLE CODE CELL FOR TESTING YOUR SOLUTION\n",
    "line_length = get_length(line1)\n",
    "print(\"Line length:\", round(line_length,2))"
   ]
  },
  {
   "cell_type": "code",
   "execution_count": 117,
   "metadata": {
    "deletable": false,
    "editable": false,
    "nbgrader": {
     "cell_type": "code",
     "checksum": "54c86e32b3a08a0a78b05e36e2a8a2cb",
     "grade": true,
     "grade_id": "problem_2_poly_length_test",
     "locked": true,
     "points": 0.5,
     "schema_version": 3,
     "solution": false,
     "task": false
    }
   },
   "outputs": [
    {
     "name": "stdout",
     "output_type": "stream",
     "text": [
      "Polygon exterior length: 121.33\n"
     ]
    }
   ],
   "source": [
    "# NON-EDITABLE CODE CELL FOR TESTING YOUR SOLUTION\n",
    "poly_exterior_length = get_length(poly1)\n",
    "print(\"Polygon exterior length:\", round(poly_exterior_length,2))"
   ]
  },
  {
   "cell_type": "code",
   "execution_count": 118,
   "metadata": {
    "deletable": false,
    "editable": false,
    "nbgrader": {
     "cell_type": "code",
     "checksum": "5f955495fa1fbaedfe148ae3c77da5e3",
     "grade": true,
     "grade_id": "problem_2_length_assertion_test",
     "locked": true,
     "points": 0.5,
     "schema_version": 3,
     "solution": false,
     "task": false
    }
   },
   "outputs": [
    {
     "name": "stdout",
     "output_type": "stream",
     "text": [
      "Geometry -check works\n"
     ]
    }
   ],
   "source": [
    "# NON-EDITABLE CODE CELL FOR TESTING YOUR SOLUTION\n",
    "try:\n",
    "    # Pass something else than a Shapely LineString or Polygon\n",
    "    get_length(Point(1,2))\n",
    "except AssertionError:\n",
    "    print(\"Geometry -check works\")\n",
    "except Exception as e:\n",
    "    raise e"
   ]
  },
  {
   "cell_type": "markdown",
   "metadata": {},
   "source": [
    "## Docstrings\n",
    "\n",
    "Did you add a docstring to all the functions you defined? If not, add them now :) A short one-line docstring is enough in this exercise."
   ]
  },
  {
   "cell_type": "markdown",
   "metadata": {
    "deletable": false,
    "nbgrader": {
     "cell_type": "markdown",
     "checksum": "fec902d628c3bc4bef5d7eefbf44364d",
     "grade": true,
     "grade_id": "ceck_docstrings",
     "locked": false,
     "points": 0,
     "schema_version": 3,
     "solution": true,
     "task": false
    }
   },
   "source": [
    "YOUR ANSWER HERE"
   ]
  },
  {
   "cell_type": "markdown",
   "metadata": {},
   "source": [
    "In addition, you can run the code cell below to check all the docstrings!"
   ]
  },
  {
   "cell_type": "code",
   "execution_count": null,
   "metadata": {
    "deletable": false,
    "editable": false,
    "nbgrader": {
     "cell_type": "code",
     "checksum": "13a5612c9bebced41e375c36b077712f",
     "grade": true,
     "grade_id": "problem_2_docstring_test",
     "locked": true,
     "points": 1,
     "schema_version": 3,
     "solution": false,
     "task": false
    }
   },
   "outputs": [],
   "source": [
    "# NON-EDITABLE CODE CELL FOR TESTING YOUR SOLUTION\n",
    "\n",
    "# List all functions we created\n",
    "functions = [create_point_geom, create_line_geom, create_poly_geom, get_centroid,\n",
    "            get_area, get_length]\n",
    "\n",
    "print(\"I created functions for doing these tasks:\\n\")\n",
    "\n",
    "for function in functions:\n",
    "    #Print function name and docstring:\n",
    "    print(\"-\", function.__name__ +\":\", function.__doc__)"
   ]
  },
  {
   "cell_type": "markdown",
   "metadata": {
    "deletable": false,
    "editable": false,
    "nbgrader": {
     "cell_type": "markdown",
     "checksum": "5b172231a2989163fffb7ecf0bb64127",
     "grade": false,
     "grade_id": "done_2",
     "locked": true,
     "schema_version": 3,
     "solution": false
    }
   },
   "source": [
    "- Upload the codes and edits to your **own** personal GitHub repository for Exercise-1.\n",
    "\n",
    "## Done!\n",
    "\n",
    "That's it. Now you are ready to continue with Problem 3. "
   ]
  }
 ],
 "metadata": {
  "kernelspec": {
   "display_name": "Python 3",
   "language": "python",
   "name": "python3"
  },
  "language_info": {
   "codemirror_mode": {
    "name": "ipython",
    "version": 3
   },
   "file_extension": ".py",
   "mimetype": "text/x-python",
   "name": "python",
   "nbconvert_exporter": "python",
   "pygments_lexer": "ipython3",
   "version": "3.8.5"
  }
 },
 "nbformat": 4,
 "nbformat_minor": 4
}
